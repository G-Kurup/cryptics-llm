{
 "cells": [
  {
   "cell_type": "code",
   "execution_count": 25,
   "metadata": {},
   "outputs": [],
   "source": [
    "from openai import OpenAI\n",
    "import pandas as pd"
   ]
  },
  {
   "cell_type": "code",
   "execution_count": 27,
   "metadata": {},
   "outputs": [],
   "source": [
    "# Parameters\n",
    "\n",
    "few_shot_no = 25  # Number of examples given for few-shot learning\n",
    "test_no = 500     # Number of testing examples\n",
    "\n",
    "API_KEY = 'your_API_key_here'"
   ]
  },
  {
   "cell_type": "code",
   "execution_count": 28,
   "metadata": {},
   "outputs": [],
   "source": [
    "# Pick examples for few-shot learning randomly from training set\n",
    "\n",
    "train_path = \"/home/gowri/GDrive/Projects/cryptics-llm/No_Commit/Data/data_cryptic_train.json\"\n",
    "\n",
    "df_train = pd.read_json(train_path, lines=True)\n",
    "df_train = df_train.sample(n=few_shot_no, random_state=42)"
   ]
  },
  {
   "cell_type": "code",
   "execution_count": 29,
   "metadata": {},
   "outputs": [],
   "source": [
    "# Pick testing examples from test set\n",
    "\n",
    "test_path = \"/home/gowri/GDrive/Projects/cryptics-llm/No_Commit/Data/data_cryptic_test.json\"\n",
    "\n",
    "df_test = pd.read_json(test_path, lines=True)\n",
    "df_test = df_test.sample(n=test_no, random_state=42)"
   ]
  },
  {
   "cell_type": "code",
   "execution_count": 30,
   "metadata": {},
   "outputs": [],
   "source": [
    "# Build context for few-shot learning\n",
    "\n",
    "context=[{\"role\": \"system\", \"content\": \"You are a cryptic crossword solver. Following the examples given to you, give the answer to the crossword clue.\"}]\n",
    "\n",
    "for index, data in df_train.iterrows():\n",
    "    datadict = {}\n",
    "    datadict[\"role\"] = \"user\"\n",
    "    datadict[\"content\"] = \"Solve the following cryptic crossword clue: \" + data[\"clue\"]\n",
    "    context.append(datadict)\n",
    "    \n",
    "    datadict = {}\n",
    "    datadict[\"role\"] = \"assistant\"\n",
    "    datadict[\"content\"] = data[\"ans\"]\n",
    "    context.append(datadict)   "
   ]
  },
  {
   "cell_type": "code",
   "execution_count": 31,
   "metadata": {},
   "outputs": [],
   "source": [
    "# Prompt ChatGPT to answer the crossword clues and save the predictions\n",
    "\n",
    "client = OpenAI(api_key=API_KEY)\n",
    "pred_list = []\n",
    "\n",
    "for i in range(test_no):\n",
    "    question = [{\"role\": \"user\", \"content\": \"Solve the following cryptic crossword clue: \" + df_test.iloc[i][\"clue\"]}]\n",
    "\n",
    "    completion = client.chat.completions.create(\n",
    "      model=\"gpt-3.5-turbo\",\n",
    "      messages= context+question\n",
    "    )\n",
    "\n",
    "    pred_list.append(completion.choices[0].message.content)"
   ]
  },
  {
   "cell_type": "code",
   "execution_count": 34,
   "metadata": {},
   "outputs": [
    {
     "name": "stdout",
     "output_type": "stream",
     "text": [
      "Number of right answers =  50\n",
      "Percent ccuracy on cryptics test dataset =  10.0\n"
     ]
    }
   ],
   "source": [
    "# Print accuracy\n",
    "\n",
    "df_test[\"pred\"] = pred_list\n",
    "count = df_test[df_test['ans']==df_test['pred']].shape[0]\n",
    "print(\"Number of right answers = \", count)\n",
    "print(\"Percent ccuracy on cryptics test dataset = \", 100 * count/test_no)"
   ]
  }
 ],
 "metadata": {
  "kernelspec": {
   "display_name": "base",
   "language": "python",
   "name": "python3"
  },
  "language_info": {
   "codemirror_mode": {
    "name": "ipython",
    "version": 3
   },
   "file_extension": ".py",
   "mimetype": "text/x-python",
   "name": "python",
   "nbconvert_exporter": "python",
   "pygments_lexer": "ipython3",
   "version": "3.11.5"
  }
 },
 "nbformat": 4,
 "nbformat_minor": 2
}
